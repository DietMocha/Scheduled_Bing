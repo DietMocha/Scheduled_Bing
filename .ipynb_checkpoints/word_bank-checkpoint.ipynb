{
 "cells": [
  {
   "cell_type": "markdown",
   "metadata": {},
   "source": [
    "# Praw Reddit API webscraping method"
   ]
  },
  {
   "cell_type": "code",
   "execution_count": 101,
   "metadata": {},
   "outputs": [
    {
     "name": "stdout",
     "output_type": "stream",
     "text": [
      "\n"
     ]
    }
   ],
   "source": [
    "'''\n",
    "<> On Deck <>\n",
    "NLP - countvec aww sub\n",
    "'''\n",
    "print('')"
   ]
  },
  {
   "cell_type": "markdown",
   "metadata": {},
   "source": [
    "### Imports"
   ]
  },
  {
   "cell_type": "code",
   "execution_count": 91,
   "metadata": {},
   "outputs": [],
   "source": [
    "import praw\n",
    "from bs4 import BeautifulSoup\n",
    "import requests\n",
    "import time as clock\n",
    "import pandas as pd"
   ]
  },
  {
   "cell_type": "markdown",
   "metadata": {},
   "source": [
    "# Praw - Reddit API webscraper\n",
    "#### Praw is a specialized webscraper api built exclusively for reddit. \n",
    "\n",
    "Originally, I webscraped reddit by hand with beautifulsoup in a previous project. Unfortunately, this mehtod is riddled with pitfalls and is to unreliable. To scrape a bunch of data reddit forces you to implement a delay between page requests to mimic a human query. However, this leads to a loss in data integrity in the form of duplicate scrapes and missmatched metadata. By the time you've finished a webpage scrape 10 new posts have shifted everything down and thousands of users have viewed/liked. When you head to the next page this causes the redundencies errors. Thats where praw comes in."
   ]
  },
  {
   "cell_type": "code",
   "execution_count": 92,
   "metadata": {},
   "outputs": [],
   "source": [
    "reddit = praw.Reddit(client_id = 'VQ6SEbB3LkEoZQ',\n",
    "                     client_secret = 'wu-DN1MjbEa1D4ghCNWA1r2j3ho',\n",
    "                     username = 'top_carrots', \n",
    "                     password = 'hydrogen2',\n",
    "                     user_agent = 'bestwordsdaily')"
   ]
  },
  {
   "cell_type": "markdown",
   "metadata": {},
   "source": [
    "The goal of this project bing search daily topics. The topics I have chosen are simple or will seem like randomized searching."
   ]
  },
  {
   "cell_type": "code",
   "execution_count": 93,
   "metadata": {
    "collapsed": true
   },
   "outputs": [],
   "source": [
    "# top news reports of the day\n",
    "subreddit1 = reddit.subreddit('news')\n",
    "# top animal words of the day <> countvec for top words\n",
    "# subreddit2 = reddit.subreddit('Aww')\n",
    "# top food of the day\n",
    "subreddit3 = reddit.subreddit('recipes')\n",
    "# top shower thoughts of the day\n",
    "# subreddit4 = reddit.subreddit('Showerthoughts')\n",
    "# direct python questions of the day\n",
    "subreddit5 = reddit.subreddit('learnpython')\n",
    "\n",
    "hot_news = subreddit1.hot(limit=25)\n",
    "hot_foods = subreddit3.hot(limit=50)\n",
    "hot_python = subreddit5.hot(limit=15)"
   ]
  },
  {
   "cell_type": "code",
   "execution_count": 94,
   "metadata": {
    "scrolled": true
   },
   "outputs": [],
   "source": [
    "news_topic = []\n",
    "for post in hot_news:\n",
    "    news_topic.append(post.title)"
   ]
  },
  {
   "cell_type": "code",
   "execution_count": 95,
   "metadata": {},
   "outputs": [],
   "source": [
    "cook_ideas = []\n",
    "for post in hot_foods:\n",
    "    cook_ideas.append(post.title)"
   ]
  },
  {
   "cell_type": "code",
   "execution_count": 96,
   "metadata": {
    "collapsed": true
   },
   "outputs": [],
   "source": [
    "python_topic = []\n",
    "for post in hot_python:\n",
    "    python_topic.append(post.title)"
   ]
  },
  {
   "cell_type": "code",
   "execution_count": 97,
   "metadata": {},
   "outputs": [],
   "source": [
    "# news_topic\n",
    "# cook_ideas\n",
    "# python_topic"
   ]
  },
  {
   "cell_type": "code",
   "execution_count": 98,
   "metadata": {
    "collapsed": true
   },
   "outputs": [],
   "source": [
    "topics = []\n",
    "topics.extend(news_topic)\n",
    "topics.extend(cook_ideas)\n",
    "topics.extend(python_topic)\n",
    "\n",
    "# topics"
   ]
  },
  {
   "cell_type": "code",
   "execution_count": 99,
   "metadata": {},
   "outputs": [
    {
     "data": {
      "text/html": [
       "<div>\n",
       "<style scoped>\n",
       "    .dataframe tbody tr th:only-of-type {\n",
       "        vertical-align: middle;\n",
       "    }\n",
       "\n",
       "    .dataframe tbody tr th {\n",
       "        vertical-align: top;\n",
       "    }\n",
       "\n",
       "    .dataframe thead th {\n",
       "        text-align: right;\n",
       "    }\n",
       "</style>\n",
       "<table border=\"1\" class=\"dataframe\">\n",
       "  <thead>\n",
       "    <tr style=\"text-align: right;\">\n",
       "      <th></th>\n",
       "      <th>posts</th>\n",
       "    </tr>\n",
       "  </thead>\n",
       "  <tbody>\n",
       "    <tr>\n",
       "      <th>0</th>\n",
       "      <td>CNN's Anthony Bourdain dead at 61</td>\n",
       "    </tr>\n",
       "    <tr>\n",
       "      <th>1</th>\n",
       "      <td>Senate Approves Marijuana Legalization Bill in...</td>\n",
       "    </tr>\n",
       "    <tr>\n",
       "      <th>2</th>\n",
       "      <td>'No Gays Allowed': Tennessee store owner puts ...</td>\n",
       "    </tr>\n",
       "    <tr>\n",
       "      <th>3</th>\n",
       "      <td>Suicide rates are up 30 percent since 1999, CD...</td>\n",
       "    </tr>\n",
       "    <tr>\n",
       "      <th>4</th>\n",
       "      <td>Video shows police hitting homeless man as he ...</td>\n",
       "    </tr>\n",
       "  </tbody>\n",
       "</table>\n",
       "</div>"
      ],
      "text/plain": [
       "                                               posts\n",
       "0                  CNN's Anthony Bourdain dead at 61\n",
       "1  Senate Approves Marijuana Legalization Bill in...\n",
       "2  'No Gays Allowed': Tennessee store owner puts ...\n",
       "3  Suicide rates are up 30 percent since 1999, CD...\n",
       "4  Video shows police hitting homeless man as he ..."
      ]
     },
     "execution_count": 99,
     "metadata": {},
     "output_type": "execute_result"
    }
   ],
   "source": [
    "df = pd.DataFrame()\n",
    "df['posts'] = topics\n",
    "df.head()"
   ]
  },
  {
   "cell_type": "markdown",
   "metadata": {},
   "source": [
    "## Exporting to .csv log"
   ]
  },
  {
   "cell_type": "code",
   "execution_count": 100,
   "metadata": {
    "collapsed": true
   },
   "outputs": [],
   "source": [
    "df.to_csv('word_bank.csv', index=False)"
   ]
  },
  {
   "cell_type": "code",
   "execution_count": null,
   "metadata": {
    "collapsed": true
   },
   "outputs": [],
   "source": []
  }
 ],
 "metadata": {
  "kernelspec": {
   "display_name": "Python [conda env:anaconda3]",
   "language": "python",
   "name": "conda-env-anaconda3-py"
  },
  "language_info": {
   "codemirror_mode": {
    "name": "ipython",
    "version": 3
   },
   "file_extension": ".py",
   "mimetype": "text/x-python",
   "name": "python",
   "nbconvert_exporter": "python",
   "pygments_lexer": "ipython3",
   "version": "3.6.3"
  }
 },
 "nbformat": 4,
 "nbformat_minor": 2
}
