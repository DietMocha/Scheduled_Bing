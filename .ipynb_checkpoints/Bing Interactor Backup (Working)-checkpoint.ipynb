{
 "cells": [
  {
   "cell_type": "markdown",
   "metadata": {},
   "source": [
    "Turns out Microsoft Edge doesn't really work on mac. Who knew. Look into remote driver later"
   ]
  },
  {
   "cell_type": "code",
   "execution_count": null,
   "metadata": {
    "collapsed": true
   },
   "outputs": [],
   "source": [
    "'''\n",
    "<> On Deck <>\n",
    "Add in random delay for sleep\n",
    "consider openning a second tab and duplicating\n",
    "'''"
   ]
  },
  {
   "cell_type": "code",
   "execution_count": 184,
   "metadata": {},
   "outputs": [],
   "source": [
    "from selenium import webdriver\n",
    "from selenium.webdriver.common.keys import Keys\n",
    "import pandas as pd\n",
    "from time import sleep\n",
    "from random import randint"
   ]
  },
  {
   "cell_type": "code",
   "execution_count": 175,
   "metadata": {
    "collapsed": true
   },
   "outputs": [],
   "source": [
    "word_bank = './word_bank.csv'"
   ]
  },
  {
   "cell_type": "code",
   "execution_count": 176,
   "metadata": {
    "collapsed": true
   },
   "outputs": [],
   "source": [
    "df = pd.read_csv(word_bank)"
   ]
  },
  {
   "cell_type": "code",
   "execution_count": 177,
   "metadata": {},
   "outputs": [
    {
     "data": {
      "text/html": [
       "<div>\n",
       "<style scoped>\n",
       "    .dataframe tbody tr th:only-of-type {\n",
       "        vertical-align: middle;\n",
       "    }\n",
       "\n",
       "    .dataframe tbody tr th {\n",
       "        vertical-align: top;\n",
       "    }\n",
       "\n",
       "    .dataframe thead th {\n",
       "        text-align: right;\n",
       "    }\n",
       "</style>\n",
       "<table border=\"1\" class=\"dataframe\">\n",
       "  <thead>\n",
       "    <tr style=\"text-align: right;\">\n",
       "      <th></th>\n",
       "      <th>posts</th>\n",
       "    </tr>\n",
       "  </thead>\n",
       "  <tbody>\n",
       "    <tr>\n",
       "      <th>0</th>\n",
       "      <td>CNN's Anthony Bourdain dead at 61</td>\n",
       "    </tr>\n",
       "    <tr>\n",
       "      <th>1</th>\n",
       "      <td>Senate Approves Marijuana Legalization Bill in...</td>\n",
       "    </tr>\n",
       "    <tr>\n",
       "      <th>2</th>\n",
       "      <td>'No Gays Allowed': Tennessee store owner puts ...</td>\n",
       "    </tr>\n",
       "    <tr>\n",
       "      <th>3</th>\n",
       "      <td>Suicide rates are up 30 percent since 1999, CD...</td>\n",
       "    </tr>\n",
       "    <tr>\n",
       "      <th>4</th>\n",
       "      <td>Video shows police hitting homeless man as he ...</td>\n",
       "    </tr>\n",
       "  </tbody>\n",
       "</table>\n",
       "</div>"
      ],
      "text/plain": [
       "                                               posts\n",
       "0                  CNN's Anthony Bourdain dead at 61\n",
       "1  Senate Approves Marijuana Legalization Bill in...\n",
       "2  'No Gays Allowed': Tennessee store owner puts ...\n",
       "3  Suicide rates are up 30 percent since 1999, CD...\n",
       "4  Video shows police hitting homeless man as he ..."
      ]
     },
     "execution_count": 177,
     "metadata": {},
     "output_type": "execute_result"
    }
   ],
   "source": [
    "df.head()"
   ]
  },
  {
   "cell_type": "code",
   "execution_count": 193,
   "metadata": {},
   "outputs": [],
   "source": [
    "# Loading Webpage\n",
    "driver = webdriver.Chrome()\n",
    "\n",
    "driver.set_window_size(1280, 720)\n",
    "driver.get('https://www.bing.com/')"
   ]
  },
  {
   "cell_type": "code",
   "execution_count": 194,
   "metadata": {},
   "outputs": [],
   "source": [
    "# Logging into account\n",
    "sleep(2)\n",
    "logger = driver.find_element_by_xpath('//*[@id=\"id_s\"]')\n",
    "logger.click()"
   ]
  },
  {
   "cell_type": "code",
   "execution_count": 195,
   "metadata": {},
   "outputs": [],
   "source": [
    "sleep(2)\n",
    "driver.find_element_by_xpath('//*[@id=\"i0116\"]').clear()\n",
    "element = driver.find_element_by_xpath('//*//*[@id=\"i0116\"]')\n",
    "element.send_keys('luigiman92@yahoo.com')\n",
    "element.send_keys(Keys.ENTER)"
   ]
  },
  {
   "cell_type": "code",
   "execution_count": 196,
   "metadata": {},
   "outputs": [],
   "source": [
    "# every selenium instance restarts mem\n",
    "# rememeber = driver.find_element_by_xpath('//*[@id=\"idChkBx_PWD_KMSI0Pwd\"]')\n",
    "# rememeber.click()"
   ]
  },
  {
   "cell_type": "code",
   "execution_count": 197,
   "metadata": {},
   "outputs": [],
   "source": [
    "sleep(2)\n",
    "driver.find_element_by_xpath('//*[@id=\"i0118\"]').clear()\n",
    "element = driver.find_element_by_xpath('//*[@id=\"i0118\"]')\n",
    "element.send_keys('carbon6C12.0')\n",
    "element.send_keys(Keys.ENTER)"
   ]
  },
  {
   "cell_type": "code",
   "execution_count": 198,
   "metadata": {},
   "outputs": [],
   "source": [
    "# Database search loop\n",
    "num=0\n",
    "for i in range(4): # (df.shape[0]):\n",
    "    sleep(2)\n",
    "    driver.find_element_by_xpath('//*[@id=\"sb_form_q\"]').clear()\n",
    "    element = driver.find_element_by_xpath('//*[@id=\"sb_form_q\"]')\n",
    "    element.send_keys(df.posts[num])\n",
    "    element.send_keys(Keys.ENTER)\n",
    "#     driver.find_element_by_xpath('//*[@id=\"sb_form_q\"]').clear()\n",
    "    num += 1"
   ]
  },
  {
   "cell_type": "code",
   "execution_count": 199,
   "metadata": {},
   "outputs": [
    {
     "data": {
      "text/plain": [
       "90"
      ]
     },
     "execution_count": 199,
     "metadata": {},
     "output_type": "execute_result"
    }
   ],
   "source": [
    "df.shape[0]"
   ]
  },
  {
   "cell_type": "code",
   "execution_count": 200,
   "metadata": {
    "collapsed": true
   },
   "outputs": [],
   "source": [
    "sleep(2)\n",
    "driver.close()"
   ]
  },
  {
   "cell_type": "code",
   "execution_count": null,
   "metadata": {
    "collapsed": true
   },
   "outputs": [],
   "source": []
  }
 ],
 "metadata": {
  "kernelspec": {
   "display_name": "Python [conda env:anaconda3]",
   "language": "python",
   "name": "conda-env-anaconda3-py"
  },
  "language_info": {
   "codemirror_mode": {
    "name": "ipython",
    "version": 3
   },
   "file_extension": ".py",
   "mimetype": "text/x-python",
   "name": "python",
   "nbconvert_exporter": "python",
   "pygments_lexer": "ipython3",
   "version": "3.6.3"
  }
 },
 "nbformat": 4,
 "nbformat_minor": 2
}
