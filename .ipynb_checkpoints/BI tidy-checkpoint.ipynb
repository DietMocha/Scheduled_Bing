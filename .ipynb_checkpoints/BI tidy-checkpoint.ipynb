{
 "cells": [
  {
   "cell_type": "code",
   "execution_count": 3,
   "metadata": {},
   "outputs": [],
   "source": [
    "from selenium import webdriver\n",
    "from selenium.webdriver.chrome.options import Options\n",
    "from selenium.webdriver.common.keys import Keys\n",
    "import pandas as pd\n",
    "from time import sleep\n",
    "from random import randint\n",
    "import airflow, random"
   ]
  },
  {
   "cell_type": "code",
   "execution_count": 2,
   "metadata": {
    "collapsed": true
   },
   "outputs": [],
   "source": [
    "word_bank = './word_bank.csv'\n",
    "password = '../../Daka/bing_login/pass.csv'\n",
    "\n",
    "# grabbing reddit text from .csv\n",
    "df = pd.read_csv(word_bank)\n",
    "\n",
    "# hiding my password in a local only .csv for github upload.\n",
    "login = pd.read_csv(password)\n",
    "login_pass = login.passwords[0]"
   ]
  },
  {
   "cell_type": "code",
   "execution_count": 64,
   "metadata": {},
   "outputs": [],
   "source": [
    "def s_random(options = [1, 2, 3, 4, 5, 6, 7, 8, 9, 0]):\n",
    "#     creating a basic random number picker of 10 numbers.\n",
    "    option  = random.choice(options)\n",
    "    return option\n",
    "\n",
    "def s_counter():\n",
    "    \n",
    "    \n",
    "def s_delay():\n",
    "#     creating a unique time delay to fool the bot identifier. Using standard uniform decimal would be identifiable.\n",
    "    rounded = s_random()\n",
    "    delay = round(random.uniform(1.0, 21.0), rounded)\n",
    "    return delay\n",
    "\n",
    "def mini_delay():\n",
    "    rounded = s_random()\n",
    "    m_delay = round(random.uniform(1.0, 11), rounded)\n",
    "    return m_delay\n",
    "\n",
    "def s_scroll():\n",
    "#     mimic human scrolling of the options\n",
    "    choice = s_random()\n",
    "    return choice\n",
    "\n",
    "def bing_logo():\n",
    "    return\n",
    "\n",
    "def bing_dashboard():\n",
    "    return\n",
    "\n",
    "def s_search_topic():\n",
    "    return\n",
    "\n",
    "def s_upper_cards():\n",
    "    return\n",
    "\n",
    "def s_lower_cards():\n",
    "    return \n",
    "\n",
    "def s_check_out():\n",
    "#     enters the site of the first link\n",
    "    s_close_tab()\n",
    "    return\n",
    "\n",
    "def s_close_tab():\n",
    "    \n",
    "    return\n",
    "\n",
    "def s_end_all():\n",
    "#     repeats close tab until all is ended\n",
    "#     needs try/except\n",
    "    driver.close()\n",
    "    return\n",
    "\n",
    "for i in range(2):\n",
    "    sleep(3)\n",
    "cardlink = pt1 + num + pt2\n",
    "#     card_two_link = '//*[@id=\"daily-sets\"]/mee-card-group[1]/div/mee-card[2]/div/card-content/mee-rewards-daily-set-item-content/div/div[3]/a'\n",
    "MScard = driver.find_element_by_xpath(cardlink)\n",
    "MScard.click()\n",
    "sleep(4)\n",
    "new_tab = driver.window_handles[1]\n",
    "driver.switch_to_window(new_tab)\n",
    "driver.close()\n",
    "driver.switch_to_window(profile_tab)\n",
    "#     driver.back()\n",
    "num = str(int(num) + 1)\n",
    "\n",
    "#     Selenium isn't great at mimicing a scroll wheel, but keys work the same. This placeholder scroll will do for now.\n",
    "# for i in range(x): # 3 is end of page results\n",
    "#     scroll = driver.find_element_by_xpath('/html/body')\n",
    "#     scroll.send_keys(Keys.SPACE)\n",
    "#     sleep(randint(1,3))\n",
    "#     if x+2 <= 4:\n",
    "#         scroll.send_keys(Keys.SHIFT, Keys.SPACE)"
   ]
  },
  {
   "cell_type": "code",
   "execution_count": 65,
   "metadata": {},
   "outputs": [
    {
     "data": {
      "text/plain": [
       "10.13075268"
      ]
     },
     "execution_count": 65,
     "metadata": {},
     "output_type": "execute_result"
    }
   ],
   "source": [
    "mini_delay()"
   ]
  },
  {
   "cell_type": "code",
   "execution_count": null,
   "metadata": {
    "collapsed": true
   },
   "outputs": [],
   "source": [
    ">>> random.uniform(1.5, 1.9)\n",
    "1.8733202628557872"
   ]
  }
 ],
 "metadata": {
  "kernelspec": {
   "display_name": "Python [conda env:anaconda3]",
   "language": "python",
   "name": "conda-env-anaconda3-py"
  },
  "language_info": {
   "codemirror_mode": {
    "name": "ipython",
    "version": 3
   },
   "file_extension": ".py",
   "mimetype": "text/x-python",
   "name": "python",
   "nbconvert_exporter": "python",
   "pygments_lexer": "ipython3",
   "version": "3.6.3"
  }
 },
 "nbformat": 4,
 "nbformat_minor": 2
}
