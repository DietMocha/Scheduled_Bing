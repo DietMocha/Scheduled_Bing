{
 "cells": [
  {
   "cell_type": "code",
   "execution_count": null,
   "metadata": {
    "collapsed": true
   },
   "outputs": [],
   "source": [
    "'''\n",
    "NLP is needed for quiz cards vs search cards. identify the quiz word. else regular.\n",
    "'''\n",
    "print('')"
   ]
  },
  {
   "cell_type": "code",
   "execution_count": 3,
   "metadata": {},
   "outputs": [],
   "source": [
    "from selenium import webdriver\n",
    "from selenium.webdriver.chrome.options import Options\n",
    "from selenium.webdriver.common.keys import Keys\n",
    "import pandas as pd\n",
    "from time import sleep\n",
    "from random import randint\n",
    "import airflow, random"
   ]
  },
  {
   "cell_type": "code",
   "execution_count": 2,
   "metadata": {
    "collapsed": true
   },
   "outputs": [],
   "source": [
    "word_bank = './word_bank.csv'\n",
    "password = '../../Daka/bing_login/pass.csv'\n",
    "\n",
    "# grabbing reddit text from .csv\n",
    "df = pd.read_csv(word_bank)\n",
    "\n",
    "# hiding my password in a local only .csv for github upload.\n",
    "login = pd.read_csv(password)\n",
    "login_pass = login.passwords[0]"
   ]
  },
  {
   "cell_type": "code",
   "execution_count": 105,
   "metadata": {},
   "outputs": [],
   "source": [
    "def s_random(options = [1, 2, 3, 4, 5, 6, 7, 8, 9, 0]):\n",
    "#     creating a basic random number picker of 10 numbers.\n",
    "    option  = random.choice(options)\n",
    "    return option\n",
    "\n",
    "def s_counter():\n",
    "    return\n",
    "    \n",
    "def s_delay():\n",
    "#     creating a unique time delay to fool the bot identifier. Using standard uniform decimal would be identifiable.\n",
    "    rounded = s_random()\n",
    "    delay = round(random.uniform(1.0, 21.0), rounded)\n",
    "    return delay\n",
    "\n",
    "def mini_delay():\n",
    "    rounded = s_random()\n",
    "    m_delay = round(random.uniform(1.0, 11), rounded)\n",
    "    return m_delay\n",
    "\n",
    "def s_scroll():\n",
    "#     mimic human scrolling of the options\n",
    "    choice = s_random()\n",
    "    return choice\n",
    "\n",
    "def bing_logo():\n",
    "    return\n",
    "\n",
    "def bing_dashboard():\n",
    "    return\n",
    "\n",
    "def s_search_topic():\n",
    "    return\n",
    "\n",
    "def s_upper_cards(pt1, pt2, card):\n",
    "    cardlink = pt1 + card + pt2\n",
    "    card = str(int(card) + 1)\n",
    "    return card\n",
    "\n",
    "def s_lower_cards():\n",
    "    return \n",
    "\n",
    "'''\n",
    "for i in range(2):\n",
    "    sleep(3)\n",
    "cardlink = pt1 + num + pt2\n",
    "#     card_two_link = '//*[@id=\"daily-sets\"]/mee-card-group[1]/div/mee-card[2]/div/card-content/mee-rewards-daily-set-item-content/div/div[3]/a'\n",
    "MScard = driver.find_element_by_xpath(cardlink)\n",
    "MScard.click()\n",
    "#     driver.back()\n",
    "num = str(int(num) + 1)\n",
    "'''\n",
    "\n",
    "def s_check_out():\n",
    "#     enters the site of the first link\n",
    "    s_close_tab()\n",
    "    return\n",
    "\n",
    "def s_close_tab(driver):\n",
    "    # doneish\n",
    "    new_tab = driver.window_handels[1]\n",
    "    driver.switch_to_window(new_tab)\n",
    "    driver.close()\n",
    "    driver.switch_to_window(profile_tab)\n",
    "    return\n",
    "\n",
    "def s_end_all():\n",
    "#     repeats close tab until all is ended\n",
    "#     needs try/except or while else\n",
    "    driver.close()\n",
    "    return\n",
    "\n",
    "#     Selenium isn't great at mimicing a scroll wheel, but keys work the same. This placeholder scroll will do for now.\n",
    "# for i in range(x): # 3 is end of page results\n",
    "#     scroll = driver.find_element_by_xpath('/html/body')\n",
    "#     scroll.send_keys(Keys.SPACE)\n",
    "#     sleep(randint(1,3))\n",
    "#     if x+2 <= 4:\n",
    "#         scroll.send_keys(Keys.SHIFT, Keys.SPACE)"
   ]
  },
  {
   "cell_type": "code",
   "execution_count": 69,
   "metadata": {},
   "outputs": [
    {
     "data": {
      "text/plain": [
       "5.1415"
      ]
     },
     "execution_count": 69,
     "metadata": {},
     "output_type": "execute_result"
    }
   ],
   "source": [
    "x = s_delay()\n",
    "x"
   ]
  },
  {
   "cell_type": "code",
   "execution_count": 106,
   "metadata": {},
   "outputs": [],
   "source": [
    "# upper cards code\n",
    "pt1 = '//*[@id=\"daily-sets\"]/mee-card-group[1]/div/mee-card['\n",
    "pt2 = ']/div/card-content/mee-rewards-daily-set-item-content/div/div[3]/a'\n",
    "card = '1'"
   ]
  },
  {
   "cell_type": "code",
   "execution_count": 110,
   "metadata": {},
   "outputs": [
    {
     "data": {
      "text/plain": [
       "'5'"
      ]
     },
     "execution_count": 110,
     "metadata": {},
     "output_type": "execute_result"
    }
   ],
   "source": [
    "# read reddit project for multiple returns\n",
    "s_upper_cards\n",
    "card = s_upper_cards(pt1, pt2, card)\n",
    "card"
   ]
  },
  {
   "cell_type": "code",
   "execution_count": null,
   "metadata": {
    "collapsed": true
   },
   "outputs": [],
   "source": []
  },
  {
   "cell_type": "code",
   "execution_count": 99,
   "metadata": {
    "collapsed": true
   },
   "outputs": [],
   "source": [
    "post_clock # return clocks, standard, laymen | first attempt\n",
    "for i,v in enumerate(post_clock(crackers, num)):\n",
    "    if i == 0:\n",
    "        clocks.extend(v)\n",
    "        # clocks\n",
    "    elif i ==1:\n",
    "        standards.extend(v)\n",
    "        # standard\n",
    "    elif i == 2:\n",
    "        laymen.extend(v)\n",
    "        # laymen\n",
    "    else:\n",
    "        clocks.extend(v)\n",
    "        break\n"
   ]
  },
  {
   "cell_type": "code",
   "execution_count": null,
   "metadata": {
    "collapsed": true
   },
   "outputs": [],
   "source": [
    "more_pages(URL) # best way to establish function variables\n",
    "return titles, subs, comments, likes, clocks, standards, laymen, every_url\n",
    "\n",
    "titles, subs, comments, likes, clocks, standards, laymen, every_url = more_pages(URL)"
   ]
  }
 ],
 "metadata": {
  "kernelspec": {
   "display_name": "Python [conda env:anaconda3]",
   "language": "python",
   "name": "conda-env-anaconda3-py"
  },
  "language_info": {
   "codemirror_mode": {
    "name": "ipython",
    "version": 3
   },
   "file_extension": ".py",
   "mimetype": "text/x-python",
   "name": "python",
   "nbconvert_exporter": "python",
   "pygments_lexer": "ipython3",
   "version": "3.6.3"
  }
 },
 "nbformat": 4,
 "nbformat_minor": 2
}
