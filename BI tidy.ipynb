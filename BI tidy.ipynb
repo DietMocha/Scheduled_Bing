{
 "cells": [
  {
   "cell_type": "code",
   "execution_count": null,
   "metadata": {
    "collapsed": true
   },
   "outputs": [],
   "source": [
    "'''\n",
    "NLP is needed for quiz cards vs search cards. identify the quiz word. else regular.\n",
    "'''\n",
    "print('')"
   ]
  },
  {
   "cell_type": "code",
   "execution_count": 3,
   "metadata": {},
   "outputs": [],
   "source": [
    "from selenium import webdriver\n",
    "from selenium.webdriver.chrome.options import Options\n",
    "from selenium.webdriver.common.keys import Keys\n",
    "import pandas as pd\n",
    "from time import sleep\n",
    "from random import randint\n",
    "import airflow, random"
   ]
  },
  {
   "cell_type": "code",
   "execution_count": 2,
   "metadata": {
    "collapsed": true
   },
   "outputs": [],
   "source": [
    "# establishing selenium\n",
    "\n",
    "# data\n",
    "word_bank = './word_bank.csv'\n",
    "password = '../../Daka/bing_login/pass.csv'\n",
    "\n",
    "# grabbing reddit text from .csv\n",
    "df = pd.read_csv(word_bank)\n",
    "\n",
    "# hiding my password in a local only .csv for github upload.\n",
    "login = pd.read_csv(password)\n",
    "login_pass = login.passwords[0]"
   ]
  },
  {
   "cell_type": "code",
   "execution_count": 137,
   "metadata": {},
   "outputs": [],
   "source": [
    "def s_random(options = [1, 2, 3, 4, 5, 6, 7, 8, 9, 0]):\n",
    "#     done-ish\n",
    "#     creating a basic random number picker of 10 numbers.\n",
    "    option  = random.choice(options)\n",
    "    return option\n",
    "\n",
    "def s_counter():\n",
    "    return\n",
    "    \n",
    "def s_delay():\n",
    "#     done-ish\n",
    "#     creating a unique time delay to fool the bot identifier. Using standard uniform decimal would be identifiable.\n",
    "    rounded = s_random()\n",
    "    delay = round(random.uniform(1.0, 21.0), rounded)\n",
    "    return delay\n",
    "\n",
    "def mini_delay():\n",
    "#     done-ish\n",
    "    rounded = s_random()\n",
    "    m_delay = round(random.uniform(1.0, 11), rounded)\n",
    "    return m_delay\n",
    "\n",
    "def s_scroll():\n",
    "#     mimic human scrolling of the options\n",
    "    choice = s_random()\n",
    "    return choice\n",
    "\n",
    "def bing_logo():\n",
    "    return\n",
    "\n",
    "def bing_dashboard():\n",
    "    return\n",
    "\n",
    "def s_search_topic():\n",
    "    return\n",
    "\n",
    "def s_upper_cards(up1, up2, ucard):\n",
    "#     done-ish\n",
    "    cardlink = pt1 + ucard + pt2\n",
    "    ucard = str(int(ucard) + 1)\n",
    "    return ucard, cardlink\n",
    "\n",
    "def s_bottom_cards(lp1, lp2, bcard):\n",
    "#     done-ish\n",
    "    cardlink = pt1 + bcard + pt2\n",
    "    bcard = str(int(bcard) + 1)\n",
    "    return bcard, cardlink\n",
    "\n",
    "'''\n",
    "\n",
    "'''\n",
    "\n",
    "def s_check_out():\n",
    "#     enters the site of the first link\n",
    "    s_close_tab()\n",
    "    return\n",
    "\n",
    "def s_close_tab(driver):\n",
    "#     done-ish\n",
    "#     sleep(mini_delay())\n",
    "    new_tab = driver.window_handels[1]\n",
    "    driver.switch_to_window(new_tab)\n",
    "    driver.close()\n",
    "    driver.switch_to_window(profile_tab)\n",
    "    return\n",
    "\n",
    "def s_end_all():\n",
    "#     sleep(delay())\n",
    "#     repeats close tab until all is ended\n",
    "#     needs try/except or while else\n",
    "    driver.close()\n",
    "    return\n",
    "\n",
    "#     Selenium isn't great at mimicing a scroll wheel, but keys work the same. This placeholder scroll will do for now.\n",
    "# for i in range(x): # 3 is end of page results\n",
    "#     scroll = driver.find_element_by_xpath('/html/body')\n",
    "#     scroll.send_keys(Keys.SPACE)\n",
    "#     sleep(randint(1,3))\n",
    "#     if x+2 <= 4:\n",
    "#         scroll.send_keys(Keys.SHIFT, Keys.SPACE)"
   ]
  },
  {
   "cell_type": "code",
   "execution_count": 154,
   "metadata": {},
   "outputs": [
    {
     "data": {
      "text/plain": [
       "3.31826"
      ]
     },
     "execution_count": 154,
     "metadata": {},
     "output_type": "execute_result"
    }
   ],
   "source": [
    "x = s_delay()\n",
    "x"
   ]
  },
  {
   "cell_type": "code",
   "execution_count": 149,
   "metadata": {},
   "outputs": [],
   "source": [
    "# variables\n",
    "# upper cards xpath\n",
    "up1   = '//*[@id=\"daily-sets\"]/mee-card-group[1]/div/mee-card['\n",
    "up2   = ']/div/card-content/mee-rewards-daily-set-item-content/div/div[3]/a'\n",
    "ucard = '1'\n",
    "\n",
    "# down cards xpath\n",
    "bp1   = ''\n",
    "bp2   = ''\n",
    "bcard = '1'"
   ]
  },
  {
   "cell_type": "code",
   "execution_count": 152,
   "metadata": {},
   "outputs": [
    {
     "name": "stdout",
     "output_type": "stream",
     "text": [
      "3\n",
      "4\n",
      "Ended on the {info} card on the top.\n"
     ]
    },
    {
     "ename": "AttributeError",
     "evalue": "'NoneType' object has no attribute 'format'",
     "output_type": "error",
     "traceback": [
      "\u001b[0;31m---------------------------------------------------------------------------\u001b[0m",
      "\u001b[0;31mNameError\u001b[0m                                 Traceback (most recent call last)",
      "\u001b[0;32m<ipython-input-152-3fef52be0910>\u001b[0m in \u001b[0;36m<module>\u001b[0;34m()\u001b[0m\n\u001b[1;32m      8\u001b[0m     \u001b[0;32mtry\u001b[0m\u001b[0;34m:\u001b[0m\u001b[0;34m\u001b[0m\u001b[0m\n\u001b[0;32m----> 9\u001b[0;31m         \u001b[0mMScard\u001b[0m \u001b[0;34m=\u001b[0m \u001b[0mdriver\u001b[0m\u001b[0;34m.\u001b[0m\u001b[0mfind_element_by_xpath\u001b[0m\u001b[0;34m(\u001b[0m\u001b[0mcardlink\u001b[0m\u001b[0;34m)\u001b[0m\u001b[0;34m\u001b[0m\u001b[0m\n\u001b[0m\u001b[1;32m     10\u001b[0m         \u001b[0mMScard\u001b[0m\u001b[0;34m.\u001b[0m\u001b[0mclick\u001b[0m\u001b[0;34m(\u001b[0m\u001b[0;34m)\u001b[0m\u001b[0;34m\u001b[0m\u001b[0m\n",
      "\u001b[0;31mNameError\u001b[0m: name 'driver' is not defined",
      "\nDuring handling of the above exception, another exception occurred:\n",
      "\u001b[0;31mAttributeError\u001b[0m                            Traceback (most recent call last)",
      "\u001b[0;32m<ipython-input-152-3fef52be0910>\u001b[0m in \u001b[0;36m<module>\u001b[0;34m()\u001b[0m\n\u001b[1;32m     12\u001b[0m     \u001b[0;32mexcept\u001b[0m\u001b[0;34m:\u001b[0m\u001b[0;34m\u001b[0m\u001b[0m\n\u001b[1;32m     13\u001b[0m         \u001b[0mprint\u001b[0m\u001b[0;34m(\u001b[0m\u001b[0mucard\u001b[0m\u001b[0;34m)\u001b[0m\u001b[0;34m\u001b[0m\u001b[0m\n\u001b[0;32m---> 14\u001b[0;31m         \u001b[0mprint\u001b[0m\u001b[0;34m(\u001b[0m\u001b[0;34m'Ended on the {info} card on the top.'\u001b[0m\u001b[0;34m)\u001b[0m\u001b[0;34m.\u001b[0m\u001b[0mformat\u001b[0m\u001b[0;34m(\u001b[0m\u001b[0minfo\u001b[0m \u001b[0;34m=\u001b[0m \u001b[0mstr\u001b[0m\u001b[0;34m(\u001b[0m\u001b[0mucard\u001b[0m\u001b[0;34m)\u001b[0m\u001b[0;34m)\u001b[0m\u001b[0;34m\u001b[0m\u001b[0m\n\u001b[0m\u001b[1;32m     15\u001b[0m         \u001b[0;32mbreak\u001b[0m\u001b[0;34m\u001b[0m\u001b[0m\n\u001b[1;32m     16\u001b[0m \u001b[0;34m\u001b[0m\u001b[0m\n",
      "\u001b[0;31mAttributeError\u001b[0m: 'NoneType' object has no attribute 'format'"
     ]
    }
   ],
   "source": [
    "'''   MAIN CODE   '''\n",
    "# done-ish\n",
    "# upper cards\n",
    "for u in range(5):\n",
    "    print(ucard)\n",
    "    ucard, cardlink = s_upper_cards(up1, up2, ucard)\n",
    "    \n",
    "    try:      \n",
    "#         sleep(mini_delay())\n",
    "        MScard = driver.find_element_by_xpath(cardlink)\n",
    "        MScard.click()\n",
    "#         s_close_tab()\n",
    "    except:\n",
    "        print(ucard)\n",
    "        print('Ended on the {info} card on the top.').format(info = str(ucard))\n",
    "#         sleep(mini_delay())\n",
    "        break\n",
    "\n",
    "# down cards\n",
    "for b in range(20):\n",
    "    bcard, cardlink = s_bottom_cards(bp1, bp2, bcard)\n",
    "    \n",
    "    try: \n",
    "#         sleep(mini_delay())\n",
    "        MScard = driver.find_element_by_xpath(cardlink)\n",
    "        MScard.click()\n",
    "#         s_close_tab()\n",
    "    except:\n",
    "        print('Ended on the {info} card on the bottom.').format(info = str(bcard))\n",
    "#         sleep(mini_delay())\n",
    "        break"
   ]
  },
  {
   "cell_type": "code",
   "execution_count": null,
   "metadata": {
    "collapsed": true
   },
   "outputs": [],
   "source": []
  },
  {
   "cell_type": "code",
   "execution_count": 99,
   "metadata": {
    "collapsed": true
   },
   "outputs": [],
   "source": [
    "# old example code\n",
    "'''\n",
    "post_clock # return clocks, standard, laymen | first attempt\n",
    "for i,v in enumerate(post_clock(crackers, num)):\n",
    "    if i == 0:\n",
    "        clocks.extend(v)\n",
    "        # clocks\n",
    "    elif i ==1:\n",
    "        standards.extend(v)\n",
    "        # standard\n",
    "    elif i == 2:\n",
    "        laymen.extend(v)\n",
    "        # laymen\n",
    "    else:\n",
    "        clocks.extend(v)\n",
    "        break\n",
    "\n",
    "\n",
    "more_pages(URL) # best way to establish function variables\n",
    "return titles, subs, comments, likes, clocks, standards, laymen, every_url\n",
    "\n",
    "titles, subs, comments, likes, clocks, standards, laymen, every_url = more_pages(URL)\n",
    "'''"
   ]
  }
 ],
 "metadata": {
  "kernelspec": {
   "display_name": "Python [conda env:anaconda3]",
   "language": "python",
   "name": "conda-env-anaconda3-py"
  },
  "language_info": {
   "codemirror_mode": {
    "name": "ipython",
    "version": 3
   },
   "file_extension": ".py",
   "mimetype": "text/x-python",
   "name": "python",
   "nbconvert_exporter": "python",
   "pygments_lexer": "ipython3",
   "version": "3.6.3"
  }
 },
 "nbformat": 4,
 "nbformat_minor": 2
}
