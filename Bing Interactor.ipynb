{
 "cells": [
  {
   "cell_type": "code",
   "execution_count": 1,
   "metadata": {},
   "outputs": [
    {
     "data": {
      "text/plain": [
       "'\\nTips:\\nIf you are trying to learn Selenium/web scraping check these videos out, \\nand my straight forward code here should help you figure it out.\\n\\ninstall: https://www.youtube.com/watch?v=yhFjXskURFU\\ndemo: https://www.youtube.com/watch?v=oOr1dlC4-Kc\\n'"
      ]
     },
     "execution_count": 1,
     "metadata": {},
     "output_type": "execute_result"
    }
   ],
   "source": [
    "'''\n",
    "Tips:\n",
    "If you are trying to learn Selenium/web scraping check these videos out, \n",
    "and my straight forward code here should help you figure it out.\n",
    "\n",
    "install: https://www.youtube.com/watch?v=yhFjXskURFU\n",
    "demo: https://www.youtube.com/watch?v=oOr1dlC4-Kc\n",
    "'''"
   ]
  },
  {
   "cell_type": "code",
   "execution_count": 2,
   "metadata": {},
   "outputs": [
    {
     "name": "stdout",
     "output_type": "stream",
     "text": [
      "\n"
     ]
    }
   ],
   "source": [
    "'''\n",
    "<> On Deck <> Still caught by bot detector, disables point collection after 5 searches\n",
    "testing with 4 searches\n",
    "<> pick 50 items from dataframe at random\n",
    "<> going back to top site and clicking on a news card\n",
    "<> add in random code to go to page 2-5 results\n",
    "\n",
    "Thoughts:\n",
    "Turns out Microsoft Edge doesn't really work on mac. Who knew. Look into remote driver later\n",
    "consider openning a second tab and duplicating\n",
    "to use this you must replace login_password and my email\n",
    "\n",
    "class=\"cardToggle\" when trending news is in search top. shows up at top after third story is chosen.\n",
    "\n",
    "Idea. instead of waiting use right click paste title\n",
    "'''\n",
    "print()"
   ]
  },
  {
   "cell_type": "code",
   "execution_count": 1,
   "metadata": {
    "collapsed": true
   },
   "outputs": [],
   "source": [
    "from selenium import webdriver\n",
    "from selenium.webdriver.chrome.options import Options\n",
    "from selenium.webdriver.common.keys import Keys\n",
    "import pandas as pd \n",
    "from time import sleep\n",
    "from random import randint"
   ]
  },
  {
   "cell_type": "code",
   "execution_count": 28,
   "metadata": {
    "collapsed": true
   },
   "outputs": [],
   "source": [
    "import airflow"
   ]
  },
  {
   "cell_type": "code",
   "execution_count": 2,
   "metadata": {
    "collapsed": true
   },
   "outputs": [],
   "source": [
    "word_bank = './word_bank.csv'\n",
    "password = '../../Daka/bing_login/pass.csv'"
   ]
  },
  {
   "cell_type": "code",
   "execution_count": 3,
   "metadata": {
    "collapsed": true
   },
   "outputs": [],
   "source": [
    "# grabbing reddit text from .csv\n",
    "df = pd.read_csv(word_bank)\n",
    "\n",
    "# hiding my password in a local only .csv for github upload\n",
    "login = pd.read_csv(password)\n",
    "login_pass = login.passwords[0]"
   ]
  },
  {
   "cell_type": "code",
   "execution_count": 4,
   "metadata": {
    "collapsed": true
   },
   "outputs": [],
   "source": [
    "# set user agent\n",
    "opts = Options()\n",
    "opts.add_argument(\"user-agent=The Muffin Man\")\n",
    "\n",
    "# Loading Webpage\n",
    "driver = webdriver.Chrome(chrome_options=opts)\n",
    "driver.set_window_size(1280, 720)\n",
    "driver.get('https://www.bing.com/')\n"
   ]
  },
  {
   "cell_type": "code",
   "execution_count": 5,
   "metadata": {
    "collapsed": true
   },
   "outputs": [],
   "source": [
    "# Logging into account\n",
    "sleep(2) # sleep 2 to let page load before code runs (avoids skipping)\n",
    "logger = driver.find_element_by_xpath('//*[@id=\"id_s\"]')\n",
    "logger.click()"
   ]
  },
  {
   "cell_type": "code",
   "execution_count": 6,
   "metadata": {
    "collapsed": true
   },
   "outputs": [],
   "source": [
    "sleep(2)\n",
    "driver.find_element_by_xpath('//*[@id=\"i0116\"]').clear()\n",
    "element = driver.find_element_by_xpath('//*//*[@id=\"i0116\"]')\n",
    "element.send_keys('gnnjume@gmail.com')\n",
    "element.send_keys(Keys.ENTER)"
   ]
  },
  {
   "cell_type": "code",
   "execution_count": 7,
   "metadata": {
    "collapsed": true
   },
   "outputs": [],
   "source": [
    "sleep(1)\n",
    "try:\n",
    "    driver.find_element_by_xpath('//*[@id=\"iLooksGood\"]')\n",
    "    element = driver.find_element_by_xpath('//*[@id=\"iLooksGood\"]')\n",
    "    element.send_keys(Keys.ENTER)\n",
    "except:\n",
    "    pass"
   ]
  },
  {
   "cell_type": "code",
   "execution_count": 8,
   "metadata": {
    "collapsed": true
   },
   "outputs": [],
   "source": [
    "# checks off remember me box. Selenium memory clears after instance. So not working.\n",
    "# rememeber = driver.find_element_by_xpath('//*[@id=\"idChkBx_PWD_KMSI0Pwd\"]')\n",
    "# rememeber.click()"
   ]
  },
  {
   "cell_type": "code",
   "execution_count": 9,
   "metadata": {
    "collapsed": true
   },
   "outputs": [],
   "source": [
    "sleep(2)\n",
    "driver.find_element_by_xpath('//*[@id=\"i0118\"]').clear()\n",
    "element = driver.find_element_by_xpath('//*[@id=\"i0118\"]')\n",
    "element.send_keys(login_pass)\n",
    "element.send_keys(Keys.ENTER)\n",
    "try:\n",
    "    sleep(3)\n",
    "    element.send_keys(Keys.ENTER)\n",
    "except:\n",
    "    pass"
   ]
  },
  {
   "cell_type": "code",
   "execution_count": 15,
   "metadata": {},
   "outputs": [
    {
     "ename": "NoSuchElementException",
     "evalue": "Message: no such element: Unable to locate element: {\"method\":\"xpath\",\"selector\":\"//*[@id=\"b_results\"]/li[13]/nav/ul/li[7]/a\"}\n  (Session info: chrome=78.0.3904.108)\n  (Driver info: chromedriver=2.40.565386 (45a059dc425e08165f9a10324bd1380cc13ca363),platform=Mac OS X 10.13.3 x86_64)\n",
     "output_type": "error",
     "traceback": [
      "\u001b[0;31m---------------------------------------------------------------------------\u001b[0m",
      "\u001b[0;31mNoSuchElementException\u001b[0m                    Traceback (most recent call last)",
      "\u001b[0;32m<ipython-input-15-0f8c39af6abe>\u001b[0m in \u001b[0;36m<module>\u001b[0;34m()\u001b[0m\n\u001b[1;32m      1\u001b[0m \u001b[0;31m# element.send_keys(Keys.ENTER)\u001b[0m\u001b[0;34m\u001b[0m\u001b[0;34m\u001b[0m\u001b[0m\n\u001b[1;32m      2\u001b[0m \u001b[0;34m'''//*[@id=\"b_results\"]/li[17]/nav/ul/li[8]/a'''\u001b[0m\u001b[0;34m\u001b[0m\u001b[0m\n\u001b[0;32m----> 3\u001b[0;31m \u001b[0melement\u001b[0m \u001b[0;34m=\u001b[0m \u001b[0mdriver\u001b[0m\u001b[0;34m.\u001b[0m\u001b[0mfind_element_by_xpath\u001b[0m\u001b[0;34m(\u001b[0m\u001b[0;34m'//*[@id=\"b_results\"]/li[13]/nav/ul/li[7]/a'\u001b[0m\u001b[0;34m)\u001b[0m\u001b[0;34m\u001b[0m\u001b[0m\n\u001b[0m\u001b[1;32m      4\u001b[0m \u001b[0melement\u001b[0m\u001b[0;34m.\u001b[0m\u001b[0mclick\u001b[0m\u001b[0;34m(\u001b[0m\u001b[0;34m)\u001b[0m\u001b[0;34m\u001b[0m\u001b[0m\n",
      "\u001b[0;32m~/anaconda3/lib/python3.6/site-packages/selenium/webdriver/remote/webdriver.py\u001b[0m in \u001b[0;36mfind_element_by_xpath\u001b[0;34m(self, xpath)\u001b[0m\n\u001b[1;32m    383\u001b[0m             \u001b[0melement\u001b[0m \u001b[0;34m=\u001b[0m \u001b[0mdriver\u001b[0m\u001b[0;34m.\u001b[0m\u001b[0mfind_element_by_xpath\u001b[0m\u001b[0;34m(\u001b[0m\u001b[0;34m'//div/td[1]'\u001b[0m\u001b[0;34m)\u001b[0m\u001b[0;34m\u001b[0m\u001b[0m\n\u001b[1;32m    384\u001b[0m         \"\"\"\n\u001b[0;32m--> 385\u001b[0;31m         \u001b[0;32mreturn\u001b[0m \u001b[0mself\u001b[0m\u001b[0;34m.\u001b[0m\u001b[0mfind_element\u001b[0m\u001b[0;34m(\u001b[0m\u001b[0mby\u001b[0m\u001b[0;34m=\u001b[0m\u001b[0mBy\u001b[0m\u001b[0;34m.\u001b[0m\u001b[0mXPATH\u001b[0m\u001b[0;34m,\u001b[0m \u001b[0mvalue\u001b[0m\u001b[0;34m=\u001b[0m\u001b[0mxpath\u001b[0m\u001b[0;34m)\u001b[0m\u001b[0;34m\u001b[0m\u001b[0m\n\u001b[0m\u001b[1;32m    386\u001b[0m \u001b[0;34m\u001b[0m\u001b[0m\n\u001b[1;32m    387\u001b[0m     \u001b[0;32mdef\u001b[0m \u001b[0mfind_elements_by_xpath\u001b[0m\u001b[0;34m(\u001b[0m\u001b[0mself\u001b[0m\u001b[0;34m,\u001b[0m \u001b[0mxpath\u001b[0m\u001b[0;34m)\u001b[0m\u001b[0;34m:\u001b[0m\u001b[0;34m\u001b[0m\u001b[0m\n",
      "\u001b[0;32m~/anaconda3/lib/python3.6/site-packages/selenium/webdriver/remote/webdriver.py\u001b[0m in \u001b[0;36mfind_element\u001b[0;34m(self, by, value)\u001b[0m\n\u001b[1;32m    953\u001b[0m         return self.execute(Command.FIND_ELEMENT, {\n\u001b[1;32m    954\u001b[0m             \u001b[0;34m'using'\u001b[0m\u001b[0;34m:\u001b[0m \u001b[0mby\u001b[0m\u001b[0;34m,\u001b[0m\u001b[0;34m\u001b[0m\u001b[0m\n\u001b[0;32m--> 955\u001b[0;31m             'value': value})['value']\n\u001b[0m\u001b[1;32m    956\u001b[0m \u001b[0;34m\u001b[0m\u001b[0m\n\u001b[1;32m    957\u001b[0m     \u001b[0;32mdef\u001b[0m \u001b[0mfind_elements\u001b[0m\u001b[0;34m(\u001b[0m\u001b[0mself\u001b[0m\u001b[0;34m,\u001b[0m \u001b[0mby\u001b[0m\u001b[0;34m=\u001b[0m\u001b[0mBy\u001b[0m\u001b[0;34m.\u001b[0m\u001b[0mID\u001b[0m\u001b[0;34m,\u001b[0m \u001b[0mvalue\u001b[0m\u001b[0;34m=\u001b[0m\u001b[0;32mNone\u001b[0m\u001b[0;34m)\u001b[0m\u001b[0;34m:\u001b[0m\u001b[0;34m\u001b[0m\u001b[0m\n",
      "\u001b[0;32m~/anaconda3/lib/python3.6/site-packages/selenium/webdriver/remote/webdriver.py\u001b[0m in \u001b[0;36mexecute\u001b[0;34m(self, driver_command, params)\u001b[0m\n\u001b[1;32m    310\u001b[0m         \u001b[0mresponse\u001b[0m \u001b[0;34m=\u001b[0m \u001b[0mself\u001b[0m\u001b[0;34m.\u001b[0m\u001b[0mcommand_executor\u001b[0m\u001b[0;34m.\u001b[0m\u001b[0mexecute\u001b[0m\u001b[0;34m(\u001b[0m\u001b[0mdriver_command\u001b[0m\u001b[0;34m,\u001b[0m \u001b[0mparams\u001b[0m\u001b[0;34m)\u001b[0m\u001b[0;34m\u001b[0m\u001b[0m\n\u001b[1;32m    311\u001b[0m         \u001b[0;32mif\u001b[0m \u001b[0mresponse\u001b[0m\u001b[0;34m:\u001b[0m\u001b[0;34m\u001b[0m\u001b[0m\n\u001b[0;32m--> 312\u001b[0;31m             \u001b[0mself\u001b[0m\u001b[0;34m.\u001b[0m\u001b[0merror_handler\u001b[0m\u001b[0;34m.\u001b[0m\u001b[0mcheck_response\u001b[0m\u001b[0;34m(\u001b[0m\u001b[0mresponse\u001b[0m\u001b[0;34m)\u001b[0m\u001b[0;34m\u001b[0m\u001b[0m\n\u001b[0m\u001b[1;32m    313\u001b[0m             response['value'] = self._unwrap_value(\n\u001b[1;32m    314\u001b[0m                 response.get('value', None))\n",
      "\u001b[0;32m~/anaconda3/lib/python3.6/site-packages/selenium/webdriver/remote/errorhandler.py\u001b[0m in \u001b[0;36mcheck_response\u001b[0;34m(self, response)\u001b[0m\n\u001b[1;32m    240\u001b[0m                 \u001b[0malert_text\u001b[0m \u001b[0;34m=\u001b[0m \u001b[0mvalue\u001b[0m\u001b[0;34m[\u001b[0m\u001b[0;34m'alert'\u001b[0m\u001b[0;34m]\u001b[0m\u001b[0;34m.\u001b[0m\u001b[0mget\u001b[0m\u001b[0;34m(\u001b[0m\u001b[0;34m'text'\u001b[0m\u001b[0;34m)\u001b[0m\u001b[0;34m\u001b[0m\u001b[0m\n\u001b[1;32m    241\u001b[0m             \u001b[0;32mraise\u001b[0m \u001b[0mexception_class\u001b[0m\u001b[0;34m(\u001b[0m\u001b[0mmessage\u001b[0m\u001b[0;34m,\u001b[0m \u001b[0mscreen\u001b[0m\u001b[0;34m,\u001b[0m \u001b[0mstacktrace\u001b[0m\u001b[0;34m,\u001b[0m \u001b[0malert_text\u001b[0m\u001b[0;34m)\u001b[0m\u001b[0;34m\u001b[0m\u001b[0m\n\u001b[0;32m--> 242\u001b[0;31m         \u001b[0;32mraise\u001b[0m \u001b[0mexception_class\u001b[0m\u001b[0;34m(\u001b[0m\u001b[0mmessage\u001b[0m\u001b[0;34m,\u001b[0m \u001b[0mscreen\u001b[0m\u001b[0;34m,\u001b[0m \u001b[0mstacktrace\u001b[0m\u001b[0;34m)\u001b[0m\u001b[0;34m\u001b[0m\u001b[0m\n\u001b[0m\u001b[1;32m    243\u001b[0m \u001b[0;34m\u001b[0m\u001b[0m\n\u001b[1;32m    244\u001b[0m     \u001b[0;32mdef\u001b[0m \u001b[0m_value_or_default\u001b[0m\u001b[0;34m(\u001b[0m\u001b[0mself\u001b[0m\u001b[0;34m,\u001b[0m \u001b[0mobj\u001b[0m\u001b[0;34m,\u001b[0m \u001b[0mkey\u001b[0m\u001b[0;34m,\u001b[0m \u001b[0mdefault\u001b[0m\u001b[0;34m)\u001b[0m\u001b[0;34m:\u001b[0m\u001b[0;34m\u001b[0m\u001b[0m\n",
      "\u001b[0;31mNoSuchElementException\u001b[0m: Message: no such element: Unable to locate element: {\"method\":\"xpath\",\"selector\":\"//*[@id=\"b_results\"]/li[13]/nav/ul/li[7]/a\"}\n  (Session info: chrome=78.0.3904.108)\n  (Driver info: chromedriver=2.40.565386 (45a059dc425e08165f9a10324bd1380cc13ca363),platform=Mac OS X 10.13.3 x86_64)\n"
     ]
    }
   ],
   "source": [
    "# element.send_keys(Keys.ENTER)\n",
    "'''\n",
    "//*[@id=\"b_results\"]/li[17]/nav/ul/li[8]/a\n",
    "//*[@id=\"b_results\"]/li[18]/nav/ul/li[9]/a\n",
    "'''\n",
    "element = driver.find_element_by_xpath('//*[@id=\"b_results\"]/li[13]/nav/ul/li[7]/a')\n",
    "element.click()"
   ]
  },
  {
   "cell_type": "code",
   "execution_count": null,
   "metadata": {
    "collapsed": true
   },
   "outputs": [],
   "source": [
    "# Database search loop\n",
    "\n",
    "# Every loop a random comment is picked as this index counter stacks up.\n",
    "num=0\n",
    "\n",
    "for i in range(3): # (df.shape[0]):\n",
    "    x = randint(1,3)\n",
    "    y = randint(1,7)\n",
    "    sleep(randint(3,10))\n",
    "    if num <= df.shape[0]:   \n",
    "#         although pressing remember me when loging in is possible, every seleneium instance is new. \n",
    "#         However, as this gets more robust I would like reasurance every part is working and that there are no important hickups getting skipped.\n",
    "        driver.find_element_by_xpath('//*[@id=\"sb_form_q\"]').clear()\n",
    "        element = driver.find_element_by_xpath('//*[@id=\"sb_form_q\"]')\n",
    "        element.send_keys(df.posts[num])\n",
    "        element.send_keys(Keys.ENTER)\n",
    "        sleep(2)\n",
    "    \n",
    "#       reduces the index number to stay within the shape of dataframe\n",
    "    else:\n",
    "        num -= randint(15,30)\n",
    "'''        \n",
    "#     Selenium isn't great at mimicing a scroll wheel, but keys work the same. This placeholder scroll will do for now.\n",
    "    for i in range(x): # 3 is end of page results\n",
    "        scroll = driver.find_element_by_xpath('/html/body')\n",
    "        scroll.send_keys(Keys.SPACE)\n",
    "        sleep(randint(1,3))\n",
    "        if x+2 <= 4:\n",
    "            scroll.send_keys(Keys.SHIFT, Keys.SPACE)\n",
    "            \n",
    "#     checks out first link, however errors can occur if the link is not the first text. Look into find_element_by_class\n",
    "    if y <= 3:\n",
    "        tab_rand = driver.find_element_by_xpath('/html/body')\n",
    "        tab_rand.send_keys(Keys.TAB, Keys.ENTER)\n",
    "        sleep(randint(2,5))\n",
    "        # repeat scroll def here\n",
    "        driver.back()\n",
    "   \n",
    "    # heads back to bing home. I chose the logo over the back button because not being on the landing page will mess up other funcitons\n",
    "    if y == 5:\n",
    "        driver.find_element_by_xpath('//*[@id=\"sb_form\"]/a').click()'''\n",
    "    \n",
    "    # addition can be used to make random choice for def start if > df.shape[0] minus random large number\n",
    "    num += randint(1,30)"
   ]
  },
  {
   "cell_type": "code",
   "execution_count": 15,
   "metadata": {
    "collapsed": true
   },
   "outputs": [],
   "source": [
    "# nav to rewards page\n",
    "sleep(1)\n",
    "points_link = '//*[@id=\"id_rh\"]'\n",
    "click_PL = driver.find_element_by_xpath(points_link)\n",
    "click_PL.click()\n",
    "sleep(5)\n",
    "\n",
    "# not sure why cleaner method wasn't working. Fix later.\n",
    "click_PL.send_keys(Keys.TAB, Keys.ENTER)\n",
    "sleep(2)\n",
    "\n",
    "\n",
    "## for some reason these profile xpath is not working\n",
    "# profile = '//*[@id=\"header\"]/a' (my rewards)\n",
    "# profile = '//*[@id=\"cards\"]/div[1]/a' (see all)\n",
    "# click_p = driver.find_element_by_xpath(profile)\n",
    "# click_p.send_keys(Keys.ENTER) or .click\n"
   ]
  },
  {
   "cell_type": "code",
   "execution_count": 16,
   "metadata": {},
   "outputs": [
    {
     "name": "stdout",
     "output_type": "stream",
     "text": [
      "\n"
     ]
    }
   ],
   "source": [
    "# click news cards for points\n",
    "# Xpath version\n",
    "pt1 = '//*[@id=\"daily-sets\"]/mee-card-group[1]/div/mee-card['\n",
    "pt2 = ']/div/card-content/mee-rewards-daily-set-item-content/div/div[3]/a'\n",
    "num = '1'\n",
    "\n",
    "\n",
    "profile_tab = driver.window_handles[0]\n",
    "driver.switch_to_window(profile_tab)\n",
    "for i in range(2):\n",
    "    sleep(3)\n",
    "\n",
    "    cardlink = pt1 + num + pt2\n",
    "#     card_two_link = '//*[@id=\"daily-sets\"]/mee-card-group[1]/div/mee-card[2]/div/card-content/mee-rewards-daily-set-item-content/div/div[3]/a'\n",
    "    MScard = driver.find_element_by_xpath(cardlink)\n",
    "    MScard.click()\n",
    "    sleep(4)\n",
    "    new_tab = driver.window_handles[1]\n",
    "    driver.switch_to_window(new_tab)\n",
    "    driver.close()\n",
    "    driver.switch_to_window(profile_tab)\n",
    "#     driver.back()\n",
    "    num = str(int(num) + 1)\n",
    "\n",
    "'''                                                        ***\n",
    "card 1 //*[@id=\"daily-sets\"]/mee-card-group[1]/div/mee-card[1]/div/card-content/mee-rewards-daily-set-item-content/div/div[3]/a\n",
    "card 2 //*[@id=\"daily-sets\"]/mee-card-group[1]/div/mee-card[2]/div/card-content/mee-rewards-daily-set-item-content/div/div[3]/a\n",
    "'''  \n",
    "# random time delay function\n",
    "# random code. 1 or 0. accidently click username first, sleep(1-3)\n",
    "# reference rscroll function\n",
    "# reference back button function\n",
    "print('')"
   ]
  },
  {
   "cell_type": "code",
   "execution_count": 17,
   "metadata": {
    "collapsed": true
   },
   "outputs": [],
   "source": [
    "# Closing up code to prevent multiple instances.\n",
    "sleep(2)\n",
    "driver.close()"
   ]
  },
  {
   "cell_type": "code",
   "execution_count": null,
   "metadata": {
    "collapsed": true
   },
   "outputs": [],
   "source": []
  },
  {
   "cell_type": "code",
   "execution_count": 18,
   "metadata": {},
   "outputs": [
    {
     "data": {
      "text/plain": [
       "'# snipit tester\\n\\ny = 3\\ndriver.find_element_by_xpath(\\'//*[@id=\"sb_form_q\"]\\').clear()\\nelement = driver.find_element_by_xpath(\\'//*[@id=\"sb_form_q\"]\\')\\nelement.send_keys(df.posts[30])\\nelement.send_keys(Keys.ENTER)\\nsleep(2)\\nif y == 3:\\n    tab_rand = driver.find_element_by_xpath(\\'/html/body\\')\\n    tab_rand.send_keys(Keys.TAB, Keys.ENTER)'"
      ]
     },
     "execution_count": 18,
     "metadata": {},
     "output_type": "execute_result"
    }
   ],
   "source": [
    "'''# snipit tester\n",
    "\n",
    "y = 3\n",
    "driver.find_element_by_xpath('//*[@id=\"sb_form_q\"]').clear()\n",
    "element = driver.find_element_by_xpath('//*[@id=\"sb_form_q\"]')\n",
    "element.send_keys(df.posts[30])\n",
    "element.send_keys(Keys.ENTER)\n",
    "sleep(2)\n",
    "if y == 3:\n",
    "    tab_rand = driver.find_element_by_xpath('/html/body')\n",
    "    tab_rand.send_keys(Keys.TAB, Keys.ENTER)'''"
   ]
  },
  {
   "cell_type": "code",
   "execution_count": 19,
   "metadata": {},
   "outputs": [
    {
     "data": {
      "text/plain": [
       "\"\\ndriver.get('https://www.bing.com/')\""
      ]
     },
     "execution_count": 19,
     "metadata": {},
     "output_type": "execute_result"
    }
   ],
   "source": [
    "'''\n",
    "driver.get('https://www.bing.com/')'''"
   ]
  },
  {
   "cell_type": "code",
   "execution_count": null,
   "metadata": {
    "collapsed": true
   },
   "outputs": [],
   "source": []
  },
  {
   "cell_type": "code",
   "execution_count": null,
   "metadata": {
    "collapsed": true
   },
   "outputs": [],
   "source": []
  }
 ],
 "metadata": {
  "kernelspec": {
   "display_name": "Python [conda env:anaconda3]",
   "language": "python",
   "name": "conda-env-anaconda3-py"
  },
  "language_info": {
   "codemirror_mode": {
    "name": "ipython",
    "version": 3
   },
   "file_extension": ".py",
   "mimetype": "text/x-python",
   "name": "python",
   "nbconvert_exporter": "python",
   "pygments_lexer": "ipython3",
   "version": "3.6.3"
  }
 },
 "nbformat": 4,
 "nbformat_minor": 2
}
