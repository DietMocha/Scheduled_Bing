{
 "cells": [
  {
   "cell_type": "markdown",
   "metadata": {},
   "source": [
    "Turns out Microsoft Edge doesn't really work on mac. Who knew. Look into remote driver later"
   ]
  },
  {
   "cell_type": "code",
   "execution_count": 327,
   "metadata": {},
   "outputs": [
    {
     "name": "stdout",
     "output_type": "stream",
     "text": [
      "\n"
     ]
    }
   ],
   "source": [
    "'''\n",
    "<> On Deck <> Still caught by bot detector, disables point collection after 5 searches\n",
    "Add in random delay for sleep\n",
    "consider openning a second tab and duplicating\n",
    "pick 50 items from dataframe at random\n",
    "going back to top site and clicking on a news card\n",
    "to use this you must replace login_password and my email\n",
    "'''\n",
    "print()"
   ]
  },
  {
   "cell_type": "code",
   "execution_count": 328,
   "metadata": {},
   "outputs": [],
   "source": [
    "from selenium import webdriver\n",
    "from selenium.webdriver.chrome.options import Options\n",
    "from selenium.webdriver.common.keys import Keys\n",
    "import pandas as pd\n",
    "from time import sleep\n",
    "from random import randint"
   ]
  },
  {
   "cell_type": "code",
   "execution_count": 338,
   "metadata": {
    "collapsed": true
   },
   "outputs": [],
   "source": [
    "word_bank = './word_bank.csv'\n",
    "password = '../../Daka/bing_login/pass.csv'"
   ]
  },
  {
   "cell_type": "code",
   "execution_count": 339,
   "metadata": {},
   "outputs": [],
   "source": [
    "df = pd.read_csv(word_bank)\n",
    "login = pd.read_csv(password)\n",
    "login_pass = login.passwords[0]"
   ]
  },
  {
   "cell_type": "code",
   "execution_count": 340,
   "metadata": {},
   "outputs": [],
   "source": [
    "# Loading Webpage\n",
    "\n",
    "# set user agent\n",
    "opts = Options()\n",
    "opts.add_argument(\"user-agent=Tony Alverez\")\n",
    "\n",
    "driver = webdriver.Chrome(chrome_options=opts)\n",
    "\n",
    "driver.set_window_size(1280, 720)\n",
    "driver.get('https://www.bing.com/')\n"
   ]
  },
  {
   "cell_type": "code",
   "execution_count": 341,
   "metadata": {},
   "outputs": [],
   "source": [
    "# Logging into account\n",
    "sleep(2)\n",
    "logger = driver.find_element_by_xpath('//*[@id=\"id_s\"]')\n",
    "logger.click()"
   ]
  },
  {
   "cell_type": "code",
   "execution_count": 342,
   "metadata": {},
   "outputs": [],
   "source": [
    "sleep(2)\n",
    "driver.find_element_by_xpath('//*[@id=\"i0116\"]').clear()\n",
    "element = driver.find_element_by_xpath('//*//*[@id=\"i0116\"]')\n",
    "element.send_keys('gnnjume@gmail.com')\n",
    "element.send_keys(Keys.ENTER)"
   ]
  },
  {
   "cell_type": "code",
   "execution_count": 343,
   "metadata": {},
   "outputs": [],
   "source": [
    "# every selenium instance restarts mem\n",
    "# rememeber = driver.find_element_by_xpath('//*[@id=\"idChkBx_PWD_KMSI0Pwd\"]')\n",
    "# rememeber.click()"
   ]
  },
  {
   "cell_type": "code",
   "execution_count": null,
   "metadata": {},
   "outputs": [],
   "source": [
    "sleep(2)\n",
    "driver.find_element_by_xpath('//*[@id=\"i0118\"]').clear()\n",
    "element = driver.find_element_by_xpath('//*[@id=\"i0118\"]')\n",
    "element.send_keys(login_pass)\n",
    "element.send_keys(Keys.ENTER)"
   ]
  },
  {
   "cell_type": "code",
   "execution_count": null,
   "metadata": {},
   "outputs": [],
   "source": [
    "# Database search loop\n",
    "num=0\n",
    "for i in range(4): # (df.shape[0]):\n",
    "    x = randint(1,3)\n",
    "    y = randint(1,7)\n",
    "    sleep(randint(3,10))\n",
    "    if num < df.shape[0]:   \n",
    "        driver.find_element_by_xpath('//*[@id=\"sb_form_q\"]').clear()\n",
    "        element = driver.find_element_by_xpath('//*[@id=\"sb_form_q\"]')\n",
    "        element.send_keys(df.posts[num])\n",
    "        element.send_keys(Keys.ENTER)\n",
    "        sleep(2)\n",
    "    else:\n",
    "        num -= randint(15,30)\n",
    "    # scroll up and down at random\n",
    "    for i in range(x): # 3 is end of page results\n",
    "        scroll = driver.find_element_by_xpath('/html/body')\n",
    "        scroll.send_keys(Keys.SPACE)\n",
    "        sleep(randint(1,3))\n",
    "        if x+2 <= 4:\n",
    "            scroll.send_keys(Keys.SHIFT, Keys.SPACE)\n",
    "    # checks out first link\n",
    "    if y <= 3:\n",
    "        tab_rand = driver.find_element_by_xpath('/html/body')\n",
    "        tab_rand.send_keys(Keys.TAB, Keys.ENTER)\n",
    "        sleep(randint(2,5))\n",
    "        # repeat scroll def here\n",
    "        driver.back()\n",
    "   \n",
    "    # heads back to bing home\n",
    "    if y == 5:\n",
    "        driver.find_element_by_xpath('//*[@id=\"sb_form\"]/a').click()\n",
    "    \n",
    "    # addition can be used to make random choice for def start if > df.shape[0] minus random large number\n",
    "    num += randint(1,30) "
   ]
  },
  {
   "cell_type": "code",
   "execution_count": null,
   "metadata": {
    "collapsed": true
   },
   "outputs": [],
   "source": [
    "sleep(2)\n",
    "driver.close()"
   ]
  },
  {
   "cell_type": "code",
   "execution_count": null,
   "metadata": {
    "collapsed": true
   },
   "outputs": [],
   "source": []
  },
  {
   "cell_type": "code",
   "execution_count": null,
   "metadata": {
    "collapsed": true
   },
   "outputs": [],
   "source": []
  },
  {
   "cell_type": "code",
   "execution_count": null,
   "metadata": {
    "collapsed": true
   },
   "outputs": [],
   "source": []
  },
  {
   "cell_type": "code",
   "execution_count": null,
   "metadata": {
    "collapsed": true
   },
   "outputs": [],
   "source": []
  },
  {
   "cell_type": "code",
   "execution_count": null,
   "metadata": {},
   "outputs": [],
   "source": [
    "# <li class=\"b_algo\" data-bm=\"9\">\n",
    "lookup = driver.find_element_by_class_name(\"b_algo\")\n",
    "lookup.click()"
   ]
  },
  {
   "cell_type": "code",
   "execution_count": null,
   "metadata": {},
   "outputs": [],
   "source": [
    "y = 3\n",
    "driver.find_element_by_xpath('//*[@id=\"sb_form_q\"]').clear()\n",
    "element = driver.find_element_by_xpath('//*[@id=\"sb_form_q\"]')\n",
    "element.send_keys(df.posts[30])\n",
    "element.send_keys(Keys.ENTER)\n",
    "sleep(2)\n",
    "if y == 3:\n",
    "    tab_rand = driver.find_element_by_xpath('/html/body')\n",
    "    tab_rand.send_keys(Keys.TAB, Keys.ENTER)"
   ]
  },
  {
   "cell_type": "code",
   "execution_count": null,
   "metadata": {
    "collapsed": true
   },
   "outputs": [],
   "source": []
  },
  {
   "cell_type": "code",
   "execution_count": null,
   "metadata": {
    "collapsed": true
   },
   "outputs": [],
   "source": []
  }
 ],
 "metadata": {
  "kernelspec": {
   "display_name": "Python [conda env:anaconda3]",
   "language": "python",
   "name": "conda-env-anaconda3-py"
  },
  "language_info": {
   "codemirror_mode": {
    "name": "ipython",
    "version": 3
   },
   "file_extension": ".py",
   "mimetype": "text/x-python",
   "name": "python",
   "nbconvert_exporter": "python",
   "pygments_lexer": "ipython3",
   "version": "3.6.3"
  }
 },
 "nbformat": 4,
 "nbformat_minor": 2
}
